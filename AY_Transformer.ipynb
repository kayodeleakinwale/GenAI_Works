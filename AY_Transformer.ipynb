{
  "nbformat": 4,
  "nbformat_minor": 0,
  "metadata": {
    "colab": {
      "provenance": [],
      "include_colab_link": true
    },
    "kernelspec": {
      "name": "python3",
      "display_name": "Python 3"
    },
    "language_info": {
      "name": "python"
    },
    "widgets": {
      "application/vnd.jupyter.widget-state+json": {
        "6e20eb7dd4df4ccab5123a9a03165eff": {
          "model_module": "@jupyter-widgets/controls",
          "model_name": "ButtonModel",
          "model_module_version": "1.5.0",
          "state": {
            "_dom_classes": [],
            "_model_module": "@jupyter-widgets/controls",
            "_model_module_version": "1.5.0",
            "_model_name": "ButtonModel",
            "_view_count": null,
            "_view_module": "@jupyter-widgets/controls",
            "_view_module_version": "1.5.0",
            "_view_name": "ButtonView",
            "button_style": "",
            "description": "Upload Document for Summarization",
            "disabled": false,
            "icon": "",
            "layout": "IPY_MODEL_1456cf3600d3476a8384c607c528e13d",
            "style": "IPY_MODEL_e5ff928dd691451ebe557cf29452b2fe",
            "tooltip": ""
          }
        },
        "1456cf3600d3476a8384c607c528e13d": {
          "model_module": "@jupyter-widgets/base",
          "model_name": "LayoutModel",
          "model_module_version": "1.2.0",
          "state": {
            "_model_module": "@jupyter-widgets/base",
            "_model_module_version": "1.2.0",
            "_model_name": "LayoutModel",
            "_view_count": null,
            "_view_module": "@jupyter-widgets/base",
            "_view_module_version": "1.2.0",
            "_view_name": "LayoutView",
            "align_content": null,
            "align_items": null,
            "align_self": null,
            "border": null,
            "bottom": null,
            "display": null,
            "flex": null,
            "flex_flow": null,
            "grid_area": null,
            "grid_auto_columns": null,
            "grid_auto_flow": null,
            "grid_auto_rows": null,
            "grid_column": null,
            "grid_gap": null,
            "grid_row": null,
            "grid_template_areas": null,
            "grid_template_columns": null,
            "grid_template_rows": null,
            "height": null,
            "justify_content": null,
            "justify_items": null,
            "left": null,
            "margin": null,
            "max_height": null,
            "max_width": null,
            "min_height": null,
            "min_width": null,
            "object_fit": null,
            "object_position": null,
            "order": null,
            "overflow": null,
            "overflow_x": null,
            "overflow_y": null,
            "padding": null,
            "right": null,
            "top": null,
            "visibility": null,
            "width": null
          }
        },
        "e5ff928dd691451ebe557cf29452b2fe": {
          "model_module": "@jupyter-widgets/controls",
          "model_name": "ButtonStyleModel",
          "model_module_version": "1.5.0",
          "state": {
            "_model_module": "@jupyter-widgets/controls",
            "_model_module_version": "1.5.0",
            "_model_name": "ButtonStyleModel",
            "_view_count": null,
            "_view_module": "@jupyter-widgets/base",
            "_view_module_version": "1.2.0",
            "_view_name": "StyleView",
            "button_color": null,
            "font_weight": ""
          }
        }
      }
    }
  },
  "cells": [
    {
      "cell_type": "markdown",
      "metadata": {
        "id": "view-in-github",
        "colab_type": "text"
      },
      "source": [
        "<a href=\"https://colab.research.google.com/github/kayodeleakinwale/GenAI_Works/blob/main/AY_Transformer.ipynb\" target=\"_parent\"><img src=\"https://colab.research.google.com/assets/colab-badge.svg\" alt=\"Open In Colab\"/></a>"
      ]
    },
    {
      "cell_type": "code",
      "execution_count": 6,
      "metadata": {
        "id": "UPwQ_tgpLe96"
      },
      "outputs": [],
      "source": [
        "'''\n",
        "Choose an LLM from transformers and select a tokenizer\n",
        "'''\n",
        "\n",
        "from transformers import AutoTokenizer\n",
        "\n",
        "checkpoint = \"google-t5/t5-small\"\n",
        "tokenizer = AutoTokenizer.from_pretrained(checkpoint)"
      ]
    },
    {
      "cell_type": "code",
      "source": [
        "'''\n",
        "Def function to apply the tokenizer and summarization tool to input text\n",
        "'''\n",
        "\n",
        "from transformers import T5ForConditionalGeneration\n",
        "\n",
        "model = T5ForConditionalGeneration.from_pretrained(checkpoint)\n",
        "\n",
        "def summarize_text(text):\n",
        "  \"\"\"Summarizes the input text using the loaded T5 model.\n",
        "\n",
        "  Args:\n",
        "    text: The input text to summarize.\n",
        "\n",
        "  Returns:\n",
        "    The summarized text.\n",
        "  \"\"\"\n",
        "  inputs = tokenizer(text, return_tensors=\"pt\", max_length=512, truncation=True)\n",
        "  summary_ids = model.generate(inputs[\"input_ids\"], num_beams=2, min_length=0, max_length=200)\n",
        "  summary = tokenizer.batch_decode(summary_ids, skip_special_tokens=True)[0]\n",
        "  return summary\n",
        "\n",
        "# Example usage:\n",
        "# input_text = \"Your long text goes here...\"\n",
        "# summary = summarize_text(input_text)\n",
        "# print(summary)"
      ],
      "metadata": {
        "id": "RxYyn_JGOCqk"
      },
      "execution_count": 7,
      "outputs": []
    },
    {
      "cell_type": "code",
      "source": [
        "'''\n",
        "Test the summarization tool with an example text input\n",
        "'''\n",
        "\n",
        "\n",
        "#input_text = \"I am a winner in the name of Jesus. It is a pleasure to have Jesus in your life when everything fails, Jesus never fail.\"\n",
        "input_text = \"US intelligence agencies had been warning since February that Israel was likely to attempt to strike facilities key to Iran’s nuclear program this year. Israeli Prime Minister Benjamin Netanyahu has repeatedly pushed for a military option to stop Iran’s nuclear program. Recent US intelligence reports say that Israel is seeking to capitalize on the destruction inflicted after it bombed Iran’s missile production facilities and air defenses in October. And overall, Israel is also still pursuing the broader goal of causing regime change in Iran, one such intelligence report said. Israel sees Iran as an existential threat: For years, Israel has said it has the most to lose if Iran, which refuses to recognize Israel’s right to exist, develops a nuclear bomb. Israel and Iran have been fighting a shadow war through proxies and covert actions for decades. Tehran has supported regional armed groups that have engaged in direct conflict with Israel, such as Hezbollah in Lebanon, Hamas in Gaza, and the Houthis in Yemen. Since Israel’s war in Gaza began, attacks by Iran-backed proxy groups have escalated in solidarity with the Palestinians. Netanyahu is in hot water domestically: Opposition to a new military conscription bill has sparked political deadlock, and Israel’s parliament, the Knesset, had met for talks about dissolving itself – which could have ultimately led to early elections that polls show Netanyahu would lose.\"\n",
        "summary = summarize_text(input_text)\n",
        "print(summary)"
      ],
      "metadata": {
        "colab": {
          "base_uri": "https://localhost:8080/"
        },
        "id": "JQ3BLIBMOcMN",
        "outputId": "d448f152-b1ff-4211-a350-aa6ae571c324"
      },
      "execution_count": 8,
      "outputs": [
        {
          "output_type": "stream",
          "name": "stdout",
          "text": [
            "Israeli prime minister Benjamin Netanyahu has repeatedly pushed for a military option to stop Iran’s nuclear program. recent US intelligence reports say that Israel is likely to attempt to strike facilities key to Iran’s nuclear program this year.\n"
          ]
        }
      ]
    },
    {
      "cell_type": "code",
      "source": [
        "\n",
        "'''\n",
        "Apply summarization tool to website\n",
        "Use BeautifulSoup to extract text from the website\n",
        "'''\n",
        "\n",
        "!pip install beautifulsoup4 requests\n",
        "\n",
        "import requests\n",
        "from bs4 import BeautifulSoup\n",
        "\n",
        "def get_article_text_from_url(url):\n",
        "  \"\"\"Fetches the text content from an article URL.\n",
        "\n",
        "  Args:\n",
        "    url: The URL of the article.\n",
        "\n",
        "  Returns:\n",
        "    The text content of the article as a string, or None if an error occurs.\n",
        "  \"\"\"\n",
        "  try:\n",
        "    response = requests.get(url)\n",
        "    response.raise_for_status()  # Raise an exception for bad status codes\n",
        "\n",
        "    soup = BeautifulSoup(response.content, 'html.parser')\n",
        "\n",
        "    # Attempt to find the main article content. This might need adjustment\n",
        "    # based on the structure of the website you are scraping.\n",
        "    # Common tags include <article>, <main>, or specific divs with class names\n",
        "    # like 'article-body', 'content', etc.\n",
        "    # This is a basic example, you might need more specific selectors.\n",
        "    article_element = soup.find('article') or soup.find('main') or soup.find('div', class_='article-body')\n",
        "\n",
        "    if article_element:\n",
        "        paragraphs = article_element.find_all('p')\n",
        "        article_text = ' '.join([p.get_text() for p in paragraphs])\n",
        "        return article_text\n",
        "    else:\n",
        "        # If no specific article element is found, try to get all paragraph text\n",
        "        paragraphs = soup.find_all('p')\n",
        "        article_text = ' '.join([p.get_text() for p in paragraphs])\n",
        "        if article_text:\n",
        "            print(\"Warning: Specific article element not found. Extracting all paragraph text.\")\n",
        "            return article_text\n",
        "        else:\n",
        "            print(f\"Could not extract text from the URL: {url}\")\n",
        "            return None\n",
        "\n",
        "  except requests.exceptions.RequestException as e:\n",
        "    print(f\"Error fetching URL: {e}\")\n",
        "    return None\n",
        "  except Exception as e:\n",
        "    print(f\"An unexpected error occurred: {e}\")\n",
        "    return None\n",
        "\n",
        "# Example usage with a URL:\n",
        "article_url = \"https://www.cnn.com/world/live-news/israel-iran-strikes-news-06-12-25-hnk-intl\"  # Replace with an actual article URL\n",
        "article_text = get_article_text_from_url(article_url)\n",
        "\n",
        "if article_text:\n",
        "  print(\"--- Original Article Text ---\")\n",
        "  print(article_text[:500] + \"...\") # Print a snippet of the text\n",
        "  print(\"\\n--- Summarized Text ---\")\n",
        "  summary = summarize_text(article_text)\n",
        "  print(summary)\n",
        "else:\n",
        "  print(\"Could not retrieve article text to summarize.\")\n"
      ],
      "metadata": {
        "colab": {
          "base_uri": "https://localhost:8080/"
        },
        "id": "4QQKDx6FP_W0",
        "outputId": "fc540502-dab0-4c19-f356-debbddc56ddf"
      },
      "execution_count": 9,
      "outputs": [
        {
          "output_type": "stream",
          "name": "stdout",
          "text": [
            "Requirement already satisfied: beautifulsoup4 in /usr/local/lib/python3.12/dist-packages (4.13.5)\n",
            "Requirement already satisfied: requests in /usr/local/lib/python3.12/dist-packages (2.32.4)\n",
            "Requirement already satisfied: soupsieve>1.2 in /usr/local/lib/python3.12/dist-packages (from beautifulsoup4) (2.7)\n",
            "Requirement already satisfied: typing-extensions>=4.0.0 in /usr/local/lib/python3.12/dist-packages (from beautifulsoup4) (4.15.0)\n",
            "Requirement already satisfied: charset_normalizer<4,>=2 in /usr/local/lib/python3.12/dist-packages (from requests) (3.4.3)\n",
            "Requirement already satisfied: idna<4,>=2.5 in /usr/local/lib/python3.12/dist-packages (from requests) (3.10)\n",
            "Requirement already satisfied: urllib3<3,>=1.21.1 in /usr/local/lib/python3.12/dist-packages (from requests) (2.5.0)\n",
            "Requirement already satisfied: certifi>=2017.4.17 in /usr/local/lib/python3.12/dist-packages (from requests) (2025.8.3)\n",
            "--- Original Article Text ---\n",
            "\n",
            "• Iran and Israel exchange strikes: There have been more explosions tonight in Tehran and Tel Aviv as the conflict between the Middle East foes escalates following Israel’s unprecedented attack early Friday on Iranian nuclear and military targets.\n",
            "     \n",
            "• Casualties on both sides: Two people have been killed in Israel and dozens injured by Iranian strikes, Israeli authorities said. Iran reported at least 78 people killed in Israeli strikes, including senior military officials, and 320 wounded, ...\n",
            "\n",
            "--- Summarized Text ---\n",
            "Iran and Israel exchange strikes: There have been more explosions tonight in Tehran and Tel Aviv as the conflict between the Middle East foes escalates following Israel’s unprecedented attack early Friday on Iranian nuclear and military targets. Iran reported at least 78 people killed in Israel and dozens injured by Iranian strikes, including senior military officials, and 320 wounded, mostly civilians.\n"
          ]
        }
      ]
    },
    {
      "cell_type": "code",
      "source": [
        "'''\n",
        "Apply tool to input file\n",
        "prompt user to upload file ... use simple txt file.\n",
        "'''\n",
        "\n",
        "import ipywidgets as widgets\n",
        "from IPython.display import display\n",
        "from io import StringIO\n",
        "from google.colab import files\n",
        "from transformers import AutoTokenizer\n",
        "from transformers import T5ForConditionalGeneration\n",
        "\n",
        "# Assuming checkpoint and model are already defined and loaded from the preceding code\n",
        "# checkpoint = \"google-t5/t5-small\"\n",
        "# tokenizer = AutoTokenizer.from_pretrained(checkpoint)\n",
        "# model = T5ForConditionalGeneration.from_pretrained(checkpoint)\n",
        "\n",
        "def summarize_text(text):\n",
        "  \"\"\"Summarizes the input text using the loaded T5 model.\n",
        "\n",
        "  Args:\n",
        "    text: The input text to summarize.\n",
        "\n",
        "  Returns:\n",
        "    The summarized text.\n",
        "  \"\"\"\n",
        "  # Ensure text is not empty\n",
        "  if not text or not text.strip():\n",
        "      return \"No text found in the document to summarize.\"\n",
        "\n",
        "  inputs = tokenizer(text, return_tensors=\"pt\", max_length=5000, truncation=True)\n",
        "  summary_ids = model.generate(inputs[\"input_ids\"], num_beams=2, min_length=0, max_length=200)\n",
        "  summary = tokenizer.batch_decode(summary_ids, skip_special_tokens=True)[0]\n",
        "  return summary\n",
        "\n",
        "# Function to handle the file upload and summarization\n",
        "def upload_and_summarize(change):\n",
        "  uploaded_files = files.upload()\n",
        "  for filename, content in uploaded_files.items():\n",
        "    print(f'Uploaded file: {filename}')\n",
        "    try:\n",
        "      # Decode the content (assuming it's text)\n",
        "      text_content = content.decode('utf-8')\n",
        "      print(\"\\n--- Original Document Content (first 500 chars) ---\")\n",
        "      print(text_content[:500] + \"...\")\n",
        "      print(\"\\n--- Summarized Document Content ---\")\n",
        "      summarized_content = summarize_text(text_content)\n",
        "      print(summarized_content)\n",
        "    except Exception as e:\n",
        "      print(f\"Error processing file {filename}: {e}\")\n",
        "\n",
        "# Create a button to trigger the file upload\n",
        "upload_button = widgets.Button(description=\"Upload Document for Summarization\")\n",
        "upload_button.on_click(upload_and_summarize)\n",
        "\n",
        "# Display the button\n",
        "display(upload_button)\n",
        "\n"
      ],
      "metadata": {
        "colab": {
          "base_uri": "https://localhost:8080/",
          "height": 49,
          "referenced_widgets": [
            "6e20eb7dd4df4ccab5123a9a03165eff",
            "1456cf3600d3476a8384c607c528e13d",
            "e5ff928dd691451ebe557cf29452b2fe"
          ]
        },
        "id": "YN2-djqrRWP7",
        "outputId": "2c48397f-58f2-4f50-91f1-3cc6786a7c36"
      },
      "execution_count": 10,
      "outputs": [
        {
          "output_type": "display_data",
          "data": {
            "text/plain": [
              "Button(description='Upload Document for Summarization', style=ButtonStyle())"
            ],
            "application/vnd.jupyter.widget-view+json": {
              "version_major": 2,
              "version_minor": 0,
              "model_id": "6e20eb7dd4df4ccab5123a9a03165eff"
            }
          },
          "metadata": {}
        }
      ]
    }
  ]
}